{
 "cells": [
  {
   "cell_type": "markdown",
   "id": "0d33eab4-b448-4636-9fdd-f7adb1de2976",
   "metadata": {},
   "source": [
    " Video: Aprende Python para ciencia de datos\n",
    " \n",
    " https://www.youtube.com/watch?v=PpLtEo3TvFw"
   ]
  },
  {
   "cell_type": "code",
   "execution_count": null,
   "id": "1374b20b-0014-4349-a3f5-7e8ca21797cc",
   "metadata": {},
   "outputs": [],
   "source": [
    "https://www.kaggle.com/pmarcelino/comprehensive-data-exploration-with-python"
   ]
  }
 ],
 "metadata": {
  "kernelspec": {
   "display_name": "Python 3",
   "language": "python",
   "name": "python3"
  },
  "language_info": {
   "codemirror_mode": {
    "name": "ipython",
    "version": 3
   },
   "file_extension": ".py",
   "mimetype": "text/x-python",
   "name": "python",
   "nbconvert_exporter": "python",
   "pygments_lexer": "ipython3",
   "version": "3.8.8"
  }
 },
 "nbformat": 4,
 "nbformat_minor": 5
}
