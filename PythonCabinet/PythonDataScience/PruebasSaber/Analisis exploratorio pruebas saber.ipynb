{
  "nbformat": 4,
  "nbformat_minor": 0,
  "metadata": {
    "colab": {
      "name": "intento4.ipynb",
      "provenance": []
    },
    "kernelspec": {
      "name": "python3",
      "display_name": "Python 3"
    },
    "language_info": {
      "name": "python"
    }
  },
  "cells": [
    {
      "cell_type": "code",
      "metadata": {
        "colab": {
          "base_uri": "https://localhost:8080/"
        },
        "id": "n9z2t1FrLd_s",
        "outputId": "1a689771-2008-47ff-e23d-0322a1efec8d"
      },
      "source": [
        "from google.colab import drive\n",
        "drive.mount (\"/content/drive\")"
      ],
      "execution_count": null,
      "outputs": [
        {
          "output_type": "stream",
          "name": "stdout",
          "text": [
            "Mounted at /content/drive\n"
          ]
        }
      ]
    },
    {
      "cell_type": "code",
      "metadata": {
        "colab": {
          "base_uri": "https://localhost:8080/"
        },
        "id": "zlGcr9OdSMrG",
        "outputId": "558d386c-0312-4b29-b9d8-d54d016ae5b5"
      },
      "source": [
        "!ls"
      ],
      "execution_count": null,
      "outputs": [
        {
          "output_type": "stream",
          "name": "stdout",
          "text": [
            "drive  sample_data\n"
          ]
        }
      ]
    },
    {
      "cell_type": "code",
      "metadata": {
        "id": "etbhQvMpTdVj"
      },
      "source": [
        " import os\n",
        "os.chdir (\"drive/My Drive/Colab Notebooks/THPII\")"
      ],
      "execution_count": null,
      "outputs": []
    },
    {
      "cell_type": "code",
      "metadata": {
        "colab": {
          "base_uri": "https://localhost:8080/"
        },
        "id": "3Bjvk_pMVKdc",
        "outputId": "37b65718-b90e-4d00-ebc2-25490c27ba49"
      },
      "source": [
        "!ls"
      ],
      "execution_count": null,
      "outputs": [
        {
          "output_type": "stream",
          "name": "stdout",
          "text": [
            "datos.ipynb\n",
            "Resultados_Saber_Pro_Competencias_Especificas_2019-2.csv\n",
            "Resultados_Saber_Pro_Competencias_Genericas_2019-2.csv\n"
          ]
        }
      ]
    },
    {
      "cell_type": "code",
      "metadata": {
        "id": "QMUGb2-7v7XV"
      },
      "source": [
        "import pandas as pd\n",
        "import numpy as np\n",
        "import matplotlib.pyplot as plt"
      ],
      "execution_count": null,
      "outputs": []
    },
    {
      "cell_type": "code",
      "metadata": {
        "colab": {
          "base_uri": "https://localhost:8080/"
        },
        "id": "puJ-4yDnsMps",
        "outputId": "836696a4-fb9c-4b5d-c751-c2b7b5727dd2"
      },
      "source": [
        "df_genericas=pd.read_csv('Resultados_Saber_Pro_Competencias_Genericas_2019-2.csv')\n",
        "df_especificas=pd.read_csv('Resultados_Saber_Pro_Competencias_Especificas_2019-2.csv')"
      ],
      "execution_count": null,
      "outputs": [
        {
          "output_type": "stream",
          "name": "stderr",
          "text": [
            "/usr/local/lib/python3.7/dist-packages/IPython/core/interactiveshell.py:2718: DtypeWarning: Columns (10,11,12,13,14,15,16,17,18,19) have mixed types.Specify dtype option on import or set low_memory=False.\n",
            "  interactivity=interactivity, compiler=compiler, result=result)\n"
          ]
        }
      ]
    },
    {
      "cell_type": "markdown",
      "metadata": {
        "id": "vRgVJjlav9LD"
      },
      "source": [
        "**Crea lista de estudiantes de contaduria de Unal y Ujav**"
      ]
    },
    {
      "cell_type": "code",
      "metadata": {
        "id": "bfUBFk_Fsccm"
      },
      "source": [
        "serieEstUnalCont=df_genericas[(df_genericas.ESTU_PRGM_ACADEMICO=='CONTADURIA PUBLICA')&\\\n",
        "(df_genericas['INST_NOMBRE_INSTITUCION'].str.contains('UNIVERSIDAD NACIONAL DE COLOMBIA-BOGOTÁ D.C.'))]\\\n",
        "['ESTU_CONSECUTIVO']"
      ],
      "execution_count": null,
      "outputs": []
    },
    {
      "cell_type": "code",
      "metadata": {
        "colab": {
          "base_uri": "https://localhost:8080/"
        },
        "id": "30hykV6ltZA3",
        "outputId": "34ee9b2f-bea1-44a9-f47d-d06d89a72415"
      },
      "source": [
        "serieEstUnalCont"
      ],
      "execution_count": null,
      "outputs": [
        {
          "output_type": "execute_result",
          "data": {
            "text/plain": [
              "190418    EK201950125044\n",
              "190441    EK201950125160\n",
              "190442    EK201950125075\n",
              "190443    EK201950124971\n",
              "190444    EK201950125154\n",
              "               ...      \n",
              "190503    EK201950125018\n",
              "190504    EK201950125143\n",
              "190505    EK201950124989\n",
              "190506    EK201950125073\n",
              "190507    EK201950125109\n",
              "Name: ESTU_CONSECUTIVO, Length: 68, dtype: object"
            ]
          },
          "metadata": {},
          "execution_count": 53
        }
      ]
    },
    {
      "cell_type": "code",
      "metadata": {
        "id": "wLebhCkntCHA"
      },
      "source": [
        "serieEstUjavCont=df_genericas[(df_genericas.ESTU_PRGM_ACADEMICO=='CONTADURIA PUBLICA')&\\\n",
        "(df_genericas['INST_NOMBRE_INSTITUCION'].str.contains('PONTIFICIA UNIVERSIDAD JAVERIANA-BOGOTÁ D.C.'))]\\\n",
        "['ESTU_CONSECUTIVO']"
      ],
      "execution_count": null,
      "outputs": []
    },
    {
      "cell_type": "code",
      "metadata": {
        "colab": {
          "base_uri": "https://localhost:8080/"
        },
        "id": "swRu599OthB_",
        "outputId": "478a89c7-7286-4bf4-ef91-31b354129644"
      },
      "source": [
        "serieEstUjavCont"
      ],
      "execution_count": null,
      "outputs": [
        {
          "output_type": "execute_result",
          "data": {
            "text/plain": [
              "129598    EK201950223934\n",
              "129599    EK201950093447\n",
              "129600    EK201950136861\n",
              "129601    EK201950223717\n",
              "129602    EK201950137180\n",
              "               ...      \n",
              "129667    EK201950093620\n",
              "129668    EK201950223487\n",
              "129669    EK201950137582\n",
              "129670    EK201950093241\n",
              "129671    EK201950223388\n",
              "Name: ESTU_CONSECUTIVO, Length: 74, dtype: object"
            ]
          },
          "metadata": {},
          "execution_count": 55
        }
      ]
    },
    {
      "cell_type": "markdown",
      "metadata": {
        "id": "4GcRujb4vt5-"
      },
      "source": [
        "**Selecciona pruebas especificas de estudiantes Unal y Ujav**"
      ]
    },
    {
      "cell_type": "code",
      "metadata": {
        "id": "j41g57Y1thaQ"
      },
      "source": [
        "df_especificasUnalCont = df_especificas.loc[df_especificas['ESTU_CONSECUTIVO'].isin(serieEstUnalCont)]"
      ],
      "execution_count": null,
      "outputs": []
    },
    {
      "cell_type": "code",
      "metadata": {
        "colab": {
          "base_uri": "https://localhost:8080/"
        },
        "id": "F2s993aguFPR",
        "outputId": "51e8da71-7d3d-4191-9046-62d919da38f3"
      },
      "source": [
        "df_especificasUnalCont.shape"
      ],
      "execution_count": null,
      "outputs": [
        {
          "output_type": "execute_result",
          "data": {
            "text/plain": [
              "(68, 5)"
            ]
          },
          "metadata": {},
          "execution_count": 62
        }
      ]
    },
    {
      "cell_type": "code",
      "metadata": {
        "id": "j2FHng-Wt9WW"
      },
      "source": [
        "df_especificasUjavCont = df_especificas.loc[df_especificas['ESTU_CONSECUTIVO'].isin(serieEstUjavCont)]"
      ],
      "execution_count": null,
      "outputs": []
    },
    {
      "cell_type": "code",
      "metadata": {
        "colab": {
          "base_uri": "https://localhost:8080/"
        },
        "id": "WcPa7sXfu2xW",
        "outputId": "8c7cd209-b30f-4131-c1d0-517bfc46db85"
      },
      "source": [
        "df_especificasUjavCont.shape"
      ],
      "execution_count": null,
      "outputs": [
        {
          "output_type": "execute_result",
          "data": {
            "text/plain": [
              "(73, 5)"
            ]
          },
          "metadata": {},
          "execution_count": 63
        }
      ]
    },
    {
      "cell_type": "markdown",
      "metadata": {
        "id": "IQB3saIYz8A6"
      },
      "source": [
        "**Creacion de tablas pivoteadas**"
      ]
    },
    {
      "cell_type": "code",
      "metadata": {
        "id": "kBc7epjTvGIp"
      },
      "source": [
        "df_especificasUnalContPivot=df_especificasUnalCont.pivot_table('RESULT_PUNTAJE', ['ESTU_CONSECUTIVO'],'RESULT_NOMBREPRUEBA')"
      ],
      "execution_count": null,
      "outputs": []
    },
    {
      "cell_type": "code",
      "metadata": {
        "id": "cgc_dvgCzzeg"
      },
      "source": [
        "df_especificasUjavContPivot=df_especificasUjavCont.pivot_table('RESULT_PUNTAJE', ['ESTU_CONSECUTIVO'],'RESULT_NOMBREPRUEBA')"
      ],
      "execution_count": null,
      "outputs": []
    },
    {
      "cell_type": "markdown",
      "metadata": {
        "id": "biFF7WhF0DZl"
      },
      "source": [
        "**DF de pruebas genericas con solo columnas deseadas**"
      ]
    },
    {
      "cell_type": "code",
      "metadata": {
        "id": "uxs4aHa4z6pG"
      },
      "source": [
        "df_genericasUnalCont=df_genericas[(df_genericas.ESTU_PRGM_ACADEMICO=='CONTADURIA PUBLICA')\\\n",
        "&(df_genericas['INST_NOMBRE_INSTITUCION'].str.contains('UNIVERSIDAD NACIONAL DE COLOMBIA-BOGOTÁ D.C.'))]\\\n",
        "[['ESTU_CONSECUTIVO','MOD_LECTURA_CRITICA_PUNT','MOD_RAZONA_CUANTITAT_PUNT',\n",
        "'MOD_COMPETEN_CIUDADA_PUNT','MOD_INGLES_PUNT','MOD_COMUNI_ESCRITA_PUNT']]"
      ],
      "execution_count": null,
      "outputs": []
    },
    {
      "cell_type": "code",
      "metadata": {
        "colab": {
          "base_uri": "https://localhost:8080/",
          "height": 224
        },
        "id": "x6KKBitE0yG6",
        "outputId": "db4b5aa8-254a-4088-d3b5-816af9b89737"
      },
      "source": [
        "df_genericasUnalCont.head()"
      ],
      "execution_count": null,
      "outputs": [
        {
          "output_type": "execute_result",
          "data": {
            "text/html": [
              "<div>\n",
              "<style scoped>\n",
              "    .dataframe tbody tr th:only-of-type {\n",
              "        vertical-align: middle;\n",
              "    }\n",
              "\n",
              "    .dataframe tbody tr th {\n",
              "        vertical-align: top;\n",
              "    }\n",
              "\n",
              "    .dataframe thead th {\n",
              "        text-align: right;\n",
              "    }\n",
              "</style>\n",
              "<table border=\"1\" class=\"dataframe\">\n",
              "  <thead>\n",
              "    <tr style=\"text-align: right;\">\n",
              "      <th></th>\n",
              "      <th>ESTU_CONSECUTIVO</th>\n",
              "      <th>MOD_LECTURA_CRITICA_PUNT</th>\n",
              "      <th>MOD_RAZONA_CUANTITAT_PUNT</th>\n",
              "      <th>MOD_COMPETEN_CIUDADA_PUNT</th>\n",
              "      <th>MOD_INGLES_PUNT</th>\n",
              "      <th>MOD_COMUNI_ESCRITA_PUNT</th>\n",
              "    </tr>\n",
              "  </thead>\n",
              "  <tbody>\n",
              "    <tr>\n",
              "      <th>190418</th>\n",
              "      <td>EK201950125044</td>\n",
              "      <td>162</td>\n",
              "      <td>155</td>\n",
              "      <td>137</td>\n",
              "      <td>199.0</td>\n",
              "      <td>170.0</td>\n",
              "    </tr>\n",
              "    <tr>\n",
              "      <th>190441</th>\n",
              "      <td>EK201950125160</td>\n",
              "      <td>154</td>\n",
              "      <td>179</td>\n",
              "      <td>188</td>\n",
              "      <td>182.0</td>\n",
              "      <td>179.0</td>\n",
              "    </tr>\n",
              "    <tr>\n",
              "      <th>190442</th>\n",
              "      <td>EK201950125075</td>\n",
              "      <td>181</td>\n",
              "      <td>168</td>\n",
              "      <td>181</td>\n",
              "      <td>183.0</td>\n",
              "      <td>174.0</td>\n",
              "    </tr>\n",
              "    <tr>\n",
              "      <th>190443</th>\n",
              "      <td>EK201950124971</td>\n",
              "      <td>203</td>\n",
              "      <td>189</td>\n",
              "      <td>204</td>\n",
              "      <td>220.0</td>\n",
              "      <td>113.0</td>\n",
              "    </tr>\n",
              "    <tr>\n",
              "      <th>190444</th>\n",
              "      <td>EK201950125154</td>\n",
              "      <td>181</td>\n",
              "      <td>174</td>\n",
              "      <td>176</td>\n",
              "      <td>194.0</td>\n",
              "      <td>152.0</td>\n",
              "    </tr>\n",
              "  </tbody>\n",
              "</table>\n",
              "</div>"
            ],
            "text/plain": [
              "       ESTU_CONSECUTIVO  ...  MOD_COMUNI_ESCRITA_PUNT\n",
              "190418   EK201950125044  ...                    170.0\n",
              "190441   EK201950125160  ...                    179.0\n",
              "190442   EK201950125075  ...                    174.0\n",
              "190443   EK201950124971  ...                    113.0\n",
              "190444   EK201950125154  ...                    152.0\n",
              "\n",
              "[5 rows x 6 columns]"
            ]
          },
          "metadata": {},
          "execution_count": 100
        }
      ]
    },
    {
      "cell_type": "code",
      "metadata": {
        "id": "89I1FlbR0liA"
      },
      "source": [
        "df_genericasUjavCont=df_genericas[(df_genericas.ESTU_PRGM_ACADEMICO=='CONTADURIA PUBLICA')\\\n",
        "&(df_genericas['INST_NOMBRE_INSTITUCION'].str.contains('PONTIFICIA UNIVERSIDAD JAVERIANA-BOGOTÁ D.C.'))]\\\n",
        "[['ESTU_CONSECUTIVO','MOD_LECTURA_CRITICA_PUNT','MOD_RAZONA_CUANTITAT_PUNT',\n",
        "'MOD_COMPETEN_CIUDADA_PUNT','MOD_INGLES_PUNT','MOD_COMUNI_ESCRITA_PUNT']]"
      ],
      "execution_count": null,
      "outputs": []
    },
    {
      "cell_type": "code",
      "metadata": {
        "colab": {
          "base_uri": "https://localhost:8080/",
          "height": 224
        },
        "id": "0vAIjezH0lki",
        "outputId": "e0079189-331f-4683-f808-23ff0aeb3098"
      },
      "source": [
        "df_genericasUjavCont.head()"
      ],
      "execution_count": null,
      "outputs": [
        {
          "output_type": "execute_result",
          "data": {
            "text/html": [
              "<div>\n",
              "<style scoped>\n",
              "    .dataframe tbody tr th:only-of-type {\n",
              "        vertical-align: middle;\n",
              "    }\n",
              "\n",
              "    .dataframe tbody tr th {\n",
              "        vertical-align: top;\n",
              "    }\n",
              "\n",
              "    .dataframe thead th {\n",
              "        text-align: right;\n",
              "    }\n",
              "</style>\n",
              "<table border=\"1\" class=\"dataframe\">\n",
              "  <thead>\n",
              "    <tr style=\"text-align: right;\">\n",
              "      <th></th>\n",
              "      <th>ESTU_CONSECUTIVO</th>\n",
              "      <th>MOD_LECTURA_CRITICA_PUNT</th>\n",
              "      <th>MOD_RAZONA_CUANTITAT_PUNT</th>\n",
              "      <th>MOD_COMPETEN_CIUDADA_PUNT</th>\n",
              "      <th>MOD_INGLES_PUNT</th>\n",
              "      <th>MOD_COMUNI_ESCRITA_PUNT</th>\n",
              "    </tr>\n",
              "  </thead>\n",
              "  <tbody>\n",
              "    <tr>\n",
              "      <th>129598</th>\n",
              "      <td>EK201950223934</td>\n",
              "      <td>143</td>\n",
              "      <td>139</td>\n",
              "      <td>130</td>\n",
              "      <td>152.0</td>\n",
              "      <td>140.0</td>\n",
              "    </tr>\n",
              "    <tr>\n",
              "      <th>129599</th>\n",
              "      <td>EK201950093447</td>\n",
              "      <td>181</td>\n",
              "      <td>112</td>\n",
              "      <td>185</td>\n",
              "      <td>184.0</td>\n",
              "      <td>186.0</td>\n",
              "    </tr>\n",
              "    <tr>\n",
              "      <th>129600</th>\n",
              "      <td>EK201950136861</td>\n",
              "      <td>145</td>\n",
              "      <td>147</td>\n",
              "      <td>180</td>\n",
              "      <td>193.0</td>\n",
              "      <td>173.0</td>\n",
              "    </tr>\n",
              "    <tr>\n",
              "      <th>129601</th>\n",
              "      <td>EK201950223717</td>\n",
              "      <td>158</td>\n",
              "      <td>141</td>\n",
              "      <td>166</td>\n",
              "      <td>186.0</td>\n",
              "      <td>137.0</td>\n",
              "    </tr>\n",
              "    <tr>\n",
              "      <th>129602</th>\n",
              "      <td>EK201950137180</td>\n",
              "      <td>152</td>\n",
              "      <td>162</td>\n",
              "      <td>91</td>\n",
              "      <td>171.0</td>\n",
              "      <td>137.0</td>\n",
              "    </tr>\n",
              "  </tbody>\n",
              "</table>\n",
              "</div>"
            ],
            "text/plain": [
              "       ESTU_CONSECUTIVO  ...  MOD_COMUNI_ESCRITA_PUNT\n",
              "129598   EK201950223934  ...                    140.0\n",
              "129599   EK201950093447  ...                    186.0\n",
              "129600   EK201950136861  ...                    173.0\n",
              "129601   EK201950223717  ...                    137.0\n",
              "129602   EK201950137180  ...                    137.0\n",
              "\n",
              "[5 rows x 6 columns]"
            ]
          },
          "metadata": {},
          "execution_count": 102
        }
      ]
    },
    {
      "cell_type": "markdown",
      "metadata": {
        "id": "iXbwPY-11DZd"
      },
      "source": [
        "**Union de especificas y genericas por universidad**"
      ]
    },
    {
      "cell_type": "code",
      "metadata": {
        "id": "FDYA8D010lm5"
      },
      "source": [
        "unal=pd.merge(df_genericasUnalCont, df_especificasUnalContPivot, on='ESTU_CONSECUTIVO', how='outer')"
      ],
      "execution_count": null,
      "outputs": []
    },
    {
      "cell_type": "code",
      "metadata": {
        "colab": {
          "base_uri": "https://localhost:8080/",
          "height": 241
        },
        "id": "o6JirjZf0lpg",
        "outputId": "1a9db3e2-333e-40dd-d5d2-1241e69a3e48"
      },
      "source": [
        "unal.head()"
      ],
      "execution_count": null,
      "outputs": [
        {
          "output_type": "execute_result",
          "data": {
            "text/html": [
              "<div>\n",
              "<style scoped>\n",
              "    .dataframe tbody tr th:only-of-type {\n",
              "        vertical-align: middle;\n",
              "    }\n",
              "\n",
              "    .dataframe tbody tr th {\n",
              "        vertical-align: top;\n",
              "    }\n",
              "\n",
              "    .dataframe thead th {\n",
              "        text-align: right;\n",
              "    }\n",
              "</style>\n",
              "<table border=\"1\" class=\"dataframe\">\n",
              "  <thead>\n",
              "    <tr style=\"text-align: right;\">\n",
              "      <th></th>\n",
              "      <th>ESTU_CONSECUTIVO</th>\n",
              "      <th>MOD_LECTURA_CRITICA_PUNT</th>\n",
              "      <th>MOD_RAZONA_CUANTITAT_PUNT</th>\n",
              "      <th>MOD_COMPETEN_CIUDADA_PUNT</th>\n",
              "      <th>MOD_INGLES_PUNT</th>\n",
              "      <th>MOD_COMUNI_ESCRITA_PUNT</th>\n",
              "      <th>GESTIÓN FINANCIERA</th>\n",
              "    </tr>\n",
              "  </thead>\n",
              "  <tbody>\n",
              "    <tr>\n",
              "      <th>0</th>\n",
              "      <td>EK201950125044</td>\n",
              "      <td>162</td>\n",
              "      <td>155</td>\n",
              "      <td>137</td>\n",
              "      <td>199.0</td>\n",
              "      <td>170.0</td>\n",
              "      <td>219</td>\n",
              "    </tr>\n",
              "    <tr>\n",
              "      <th>1</th>\n",
              "      <td>EK201950125160</td>\n",
              "      <td>154</td>\n",
              "      <td>179</td>\n",
              "      <td>188</td>\n",
              "      <td>182.0</td>\n",
              "      <td>179.0</td>\n",
              "      <td>241</td>\n",
              "    </tr>\n",
              "    <tr>\n",
              "      <th>2</th>\n",
              "      <td>EK201950125075</td>\n",
              "      <td>181</td>\n",
              "      <td>168</td>\n",
              "      <td>181</td>\n",
              "      <td>183.0</td>\n",
              "      <td>174.0</td>\n",
              "      <td>181</td>\n",
              "    </tr>\n",
              "    <tr>\n",
              "      <th>3</th>\n",
              "      <td>EK201950124971</td>\n",
              "      <td>203</td>\n",
              "      <td>189</td>\n",
              "      <td>204</td>\n",
              "      <td>220.0</td>\n",
              "      <td>113.0</td>\n",
              "      <td>204</td>\n",
              "    </tr>\n",
              "    <tr>\n",
              "      <th>4</th>\n",
              "      <td>EK201950125154</td>\n",
              "      <td>181</td>\n",
              "      <td>174</td>\n",
              "      <td>176</td>\n",
              "      <td>194.0</td>\n",
              "      <td>152.0</td>\n",
              "      <td>205</td>\n",
              "    </tr>\n",
              "  </tbody>\n",
              "</table>\n",
              "</div>"
            ],
            "text/plain": [
              "  ESTU_CONSECUTIVO  ...  GESTIÓN FINANCIERA\n",
              "0   EK201950125044  ...                 219\n",
              "1   EK201950125160  ...                 241\n",
              "2   EK201950125075  ...                 181\n",
              "3   EK201950124971  ...                 204\n",
              "4   EK201950125154  ...                 205\n",
              "\n",
              "[5 rows x 7 columns]"
            ]
          },
          "metadata": {},
          "execution_count": 104
        }
      ]
    },
    {
      "cell_type": "code",
      "metadata": {
        "colab": {
          "base_uri": "https://localhost:8080/"
        },
        "id": "5xznBklS2a3X",
        "outputId": "5f1af76f-f641-48df-bb65-a4f88174c351"
      },
      "source": [
        "unal.info()"
      ],
      "execution_count": null,
      "outputs": [
        {
          "output_type": "stream",
          "name": "stdout",
          "text": [
            "<class 'pandas.core.frame.DataFrame'>\n",
            "Int64Index: 68 entries, 0 to 67\n",
            "Data columns (total 7 columns):\n",
            " #   Column                     Non-Null Count  Dtype  \n",
            "---  ------                     --------------  -----  \n",
            " 0   ESTU_CONSECUTIVO           68 non-null     object \n",
            " 1   MOD_LECTURA_CRITICA_PUNT   68 non-null     int64  \n",
            " 2   MOD_RAZONA_CUANTITAT_PUNT  68 non-null     int64  \n",
            " 3   MOD_COMPETEN_CIUDADA_PUNT  68 non-null     int64  \n",
            " 4   MOD_INGLES_PUNT            68 non-null     float64\n",
            " 5   MOD_COMUNI_ESCRITA_PUNT    68 non-null     float64\n",
            " 6   GESTIÓN FINANCIERA         68 non-null     int64  \n",
            "dtypes: float64(2), int64(4), object(1)\n",
            "memory usage: 4.2+ KB\n"
          ]
        }
      ]
    },
    {
      "cell_type": "code",
      "metadata": {
        "id": "GQ057f990lrp"
      },
      "source": [
        "ujav=pd.merge(df_genericasUjavCont, df_especificasUjavContPivot, on='ESTU_CONSECUTIVO', how='outer')"
      ],
      "execution_count": null,
      "outputs": []
    },
    {
      "cell_type": "code",
      "metadata": {
        "colab": {
          "base_uri": "https://localhost:8080/",
          "height": 241
        },
        "id": "eWJbO5Gc1Oaj",
        "outputId": "f2e16ab6-cd92-4f4b-9647-3cb462c70f41"
      },
      "source": [
        "ujav.head()"
      ],
      "execution_count": null,
      "outputs": [
        {
          "output_type": "execute_result",
          "data": {
            "text/html": [
              "<div>\n",
              "<style scoped>\n",
              "    .dataframe tbody tr th:only-of-type {\n",
              "        vertical-align: middle;\n",
              "    }\n",
              "\n",
              "    .dataframe tbody tr th {\n",
              "        vertical-align: top;\n",
              "    }\n",
              "\n",
              "    .dataframe thead th {\n",
              "        text-align: right;\n",
              "    }\n",
              "</style>\n",
              "<table border=\"1\" class=\"dataframe\">\n",
              "  <thead>\n",
              "    <tr style=\"text-align: right;\">\n",
              "      <th></th>\n",
              "      <th>ESTU_CONSECUTIVO</th>\n",
              "      <th>MOD_LECTURA_CRITICA_PUNT</th>\n",
              "      <th>MOD_RAZONA_CUANTITAT_PUNT</th>\n",
              "      <th>MOD_COMPETEN_CIUDADA_PUNT</th>\n",
              "      <th>MOD_INGLES_PUNT</th>\n",
              "      <th>MOD_COMUNI_ESCRITA_PUNT</th>\n",
              "      <th>GESTIÓN FINANCIERA</th>\n",
              "    </tr>\n",
              "  </thead>\n",
              "  <tbody>\n",
              "    <tr>\n",
              "      <th>0</th>\n",
              "      <td>EK201950223934</td>\n",
              "      <td>143</td>\n",
              "      <td>139</td>\n",
              "      <td>130</td>\n",
              "      <td>152.0</td>\n",
              "      <td>140.0</td>\n",
              "      <td>123.0</td>\n",
              "    </tr>\n",
              "    <tr>\n",
              "      <th>1</th>\n",
              "      <td>EK201950093447</td>\n",
              "      <td>181</td>\n",
              "      <td>112</td>\n",
              "      <td>185</td>\n",
              "      <td>184.0</td>\n",
              "      <td>186.0</td>\n",
              "      <td>159.0</td>\n",
              "    </tr>\n",
              "    <tr>\n",
              "      <th>2</th>\n",
              "      <td>EK201950136861</td>\n",
              "      <td>145</td>\n",
              "      <td>147</td>\n",
              "      <td>180</td>\n",
              "      <td>193.0</td>\n",
              "      <td>173.0</td>\n",
              "      <td>181.0</td>\n",
              "    </tr>\n",
              "    <tr>\n",
              "      <th>3</th>\n",
              "      <td>EK201950223717</td>\n",
              "      <td>158</td>\n",
              "      <td>141</td>\n",
              "      <td>166</td>\n",
              "      <td>186.0</td>\n",
              "      <td>137.0</td>\n",
              "      <td>173.0</td>\n",
              "    </tr>\n",
              "    <tr>\n",
              "      <th>4</th>\n",
              "      <td>EK201950137180</td>\n",
              "      <td>152</td>\n",
              "      <td>162</td>\n",
              "      <td>91</td>\n",
              "      <td>171.0</td>\n",
              "      <td>137.0</td>\n",
              "      <td>201.0</td>\n",
              "    </tr>\n",
              "  </tbody>\n",
              "</table>\n",
              "</div>"
            ],
            "text/plain": [
              "  ESTU_CONSECUTIVO  ...  GESTIÓN FINANCIERA\n",
              "0   EK201950223934  ...               123.0\n",
              "1   EK201950093447  ...               159.0\n",
              "2   EK201950136861  ...               181.0\n",
              "3   EK201950223717  ...               173.0\n",
              "4   EK201950137180  ...               201.0\n",
              "\n",
              "[5 rows x 7 columns]"
            ]
          },
          "metadata": {},
          "execution_count": 107
        }
      ]
    },
    {
      "cell_type": "code",
      "metadata": {
        "colab": {
          "base_uri": "https://localhost:8080/"
        },
        "id": "CBwF1OM92dbI",
        "outputId": "d5826b37-8caa-4b05-c15c-8f55dad7919f"
      },
      "source": [
        "ujav.info()"
      ],
      "execution_count": null,
      "outputs": [
        {
          "output_type": "stream",
          "name": "stdout",
          "text": [
            "<class 'pandas.core.frame.DataFrame'>\n",
            "Int64Index: 74 entries, 0 to 73\n",
            "Data columns (total 7 columns):\n",
            " #   Column                     Non-Null Count  Dtype  \n",
            "---  ------                     --------------  -----  \n",
            " 0   ESTU_CONSECUTIVO           74 non-null     object \n",
            " 1   MOD_LECTURA_CRITICA_PUNT   74 non-null     int64  \n",
            " 2   MOD_RAZONA_CUANTITAT_PUNT  74 non-null     int64  \n",
            " 3   MOD_COMPETEN_CIUDADA_PUNT  74 non-null     int64  \n",
            " 4   MOD_INGLES_PUNT            74 non-null     float64\n",
            " 5   MOD_COMUNI_ESCRITA_PUNT    74 non-null     float64\n",
            " 6   GESTIÓN FINANCIERA         73 non-null     float64\n",
            "dtypes: float64(3), int64(3), object(1)\n",
            "memory usage: 4.6+ KB\n"
          ]
        }
      ]
    },
    {
      "cell_type": "markdown",
      "metadata": {
        "id": "XcXFj8LD175V"
      },
      "source": [
        "**Calculo de media**"
      ]
    },
    {
      "cell_type": "code",
      "metadata": {
        "colab": {
          "base_uri": "https://localhost:8080/"
        },
        "id": "kOaaXixb1-Gg",
        "outputId": "64a85b9f-87f1-4537-f100-da1e7b30d63c"
      },
      "source": [
        "unal.mean()"
      ],
      "execution_count": null,
      "outputs": [
        {
          "output_type": "execute_result",
          "data": {
            "text/plain": [
              "MOD_LECTURA_CRITICA_PUNT     188.323529\n",
              "MOD_RAZONA_CUANTITAT_PUNT    191.058824\n",
              "MOD_COMPETEN_CIUDADA_PUNT    186.147059\n",
              "MOD_INGLES_PUNT              189.911765\n",
              "MOD_COMUNI_ESCRITA_PUNT      158.529412\n",
              "GESTIÓN FINANCIERA           205.838235\n",
              "dtype: float64"
            ]
          },
          "metadata": {},
          "execution_count": 109
        }
      ]
    },
    {
      "cell_type": "code",
      "metadata": {
        "colab": {
          "base_uri": "https://localhost:8080/"
        },
        "id": "5_SDqK1p1S0E",
        "outputId": "629234f5-ae95-4345-d3f0-4679af2018c3"
      },
      "source": [
        "ujav.mean()"
      ],
      "execution_count": null,
      "outputs": [
        {
          "output_type": "execute_result",
          "data": {
            "text/plain": [
              "MOD_LECTURA_CRITICA_PUNT     167.040541\n",
              "MOD_RAZONA_CUANTITAT_PUNT    173.121622\n",
              "MOD_COMPETEN_CIUDADA_PUNT    159.702703\n",
              "MOD_INGLES_PUNT              168.527027\n",
              "MOD_COMUNI_ESCRITA_PUNT      157.729730\n",
              "GESTIÓN FINANCIERA           195.068493\n",
              "dtype: float64"
            ]
          },
          "metadata": {},
          "execution_count": 110
        }
      ]
    },
    {
      "cell_type": "markdown",
      "metadata": {
        "id": "Q0TSbFX12qJr"
      },
      "source": [
        "**Boxplot por universidades**"
      ]
    },
    {
      "cell_type": "code",
      "metadata": {
        "colab": {
          "base_uri": "https://localhost:8080/",
          "height": 444
        },
        "id": "bdOhXqG12PlK",
        "outputId": "e9924d69-ceac-4e23-9e27-fb1aa8f1928b"
      },
      "source": [
        "unal.boxplot()\n",
        "plt.xticks(rotation=90)\n",
        "plt.axis(ymin=0, ymax= 300)"
      ],
      "execution_count": null,
      "outputs": [
        {
          "output_type": "execute_result",
          "data": {
            "text/plain": [
              "(0.5, 6.5, 0.0, 300.0)"
            ]
          },
          "metadata": {},
          "execution_count": 127
        },
        {
          "output_type": "display_data",
          "data": {
            "image/png": "[encoded data removed]",
            "text/plain": [
              "<Figure size 432x288 with 1 Axes>"
            ]
          },
          "metadata": {
            "needs_background": "light"
          }
        }
      ]
    },
    {
      "cell_type": "code",
      "metadata": {
        "colab": {
          "base_uri": "https://localhost:8080/",
          "height": 498
        },
        "id": "DfZ4WXIv20uk",
        "outputId": "0d1d3aeb-13c1-4eaf-aa08-ac7024849338"
      },
      "source": [
        "ujav.boxplot()\n",
        "plt.xticks(rotation=90)\n",
        "plt.axis(ymin=0, ymax= 300)"
      ],
      "execution_count": null,
      "outputs": [
        {
          "output_type": "stream",
          "name": "stderr",
          "text": [
            "/usr/local/lib/python3.7/dist-packages/numpy/core/_asarray.py:83: VisibleDeprecationWarning: Creating an ndarray from ragged nested sequences (which is a list-or-tuple of lists-or-tuples-or ndarrays with different lengths or shapes) is deprecated. If you meant to do this, you must specify 'dtype=object' when creating the ndarray\n",
            "  return array(a, dtype, copy=False, order=order)\n"
          ]
        },
        {
          "output_type": "execute_result",
          "data": {
            "text/plain": [
              "(0.5, 6.5, 0.0, 300.0)"
            ]
          },
          "metadata": {},
          "execution_count": 128
        },
        {
          "output_type": "display_data",
          "data": {
            "image/png": "[encoded data removed]",
            "text/plain": [
              "<Figure size 432x288 with 1 Axes>"
            ]
          },
          "metadata": {
            "needs_background": "light"
          }
        }
      ]
    },
    {
      "cell_type": "markdown",
      "metadata": {
        "id": "ybuCGzI54d6J"
      },
      "source": [
        "**Estadisticas sobre universidades**"
      ]
    },
    {
      "cell_type": "code",
      "metadata": {
        "colab": {
          "base_uri": "https://localhost:8080/",
          "height": 334
        },
        "id": "E86c06mB4Y7Z",
        "outputId": "918fa34f-eb2d-41a4-dcea-ec38aec4f2f7"
      },
      "source": [
        "unal.describe()"
      ],
      "execution_count": null,
      "outputs": [
        {
          "output_type": "execute_result",
          "data": {
            "text/html": [
              "<div>\n",
              "<style scoped>\n",
              "    .dataframe tbody tr th:only-of-type {\n",
              "        vertical-align: middle;\n",
              "    }\n",
              "\n",
              "    .dataframe tbody tr th {\n",
              "        vertical-align: top;\n",
              "    }\n",
              "\n",
              "    .dataframe thead th {\n",
              "        text-align: right;\n",
              "    }\n",
              "</style>\n",
              "<table border=\"1\" class=\"dataframe\">\n",
              "  <thead>\n",
              "    <tr style=\"text-align: right;\">\n",
              "      <th></th>\n",
              "      <th>MOD_LECTURA_CRITICA_PUNT</th>\n",
              "      <th>MOD_RAZONA_CUANTITAT_PUNT</th>\n",
              "      <th>MOD_COMPETEN_CIUDADA_PUNT</th>\n",
              "      <th>MOD_INGLES_PUNT</th>\n",
              "      <th>MOD_COMUNI_ESCRITA_PUNT</th>\n",
              "      <th>GESTIÓN FINANCIERA</th>\n",
              "    </tr>\n",
              "  </thead>\n",
              "  <tbody>\n",
              "    <tr>\n",
              "      <th>count</th>\n",
              "      <td>68.000000</td>\n",
              "      <td>68.000000</td>\n",
              "      <td>68.000000</td>\n",
              "      <td>68.000000</td>\n",
              "      <td>68.000000</td>\n",
              "      <td>68.000000</td>\n",
              "    </tr>\n",
              "    <tr>\n",
              "      <th>mean</th>\n",
              "      <td>188.323529</td>\n",
              "      <td>191.058824</td>\n",
              "      <td>186.147059</td>\n",
              "      <td>189.911765</td>\n",
              "      <td>158.529412</td>\n",
              "      <td>205.838235</td>\n",
              "    </tr>\n",
              "    <tr>\n",
              "      <th>std</th>\n",
              "      <td>21.457658</td>\n",
              "      <td>18.334278</td>\n",
              "      <td>25.301327</td>\n",
              "      <td>22.807916</td>\n",
              "      <td>37.342493</td>\n",
              "      <td>26.878172</td>\n",
              "    </tr>\n",
              "    <tr>\n",
              "      <th>min</th>\n",
              "      <td>120.000000</td>\n",
              "      <td>116.000000</td>\n",
              "      <td>89.000000</td>\n",
              "      <td>134.000000</td>\n",
              "      <td>0.000000</td>\n",
              "      <td>108.000000</td>\n",
              "    </tr>\n",
              "    <tr>\n",
              "      <th>25%</th>\n",
              "      <td>177.000000</td>\n",
              "      <td>185.000000</td>\n",
              "      <td>173.500000</td>\n",
              "      <td>178.000000</td>\n",
              "      <td>138.000000</td>\n",
              "      <td>193.500000</td>\n",
              "    </tr>\n",
              "    <tr>\n",
              "      <th>50%</th>\n",
              "      <td>188.000000</td>\n",
              "      <td>192.000000</td>\n",
              "      <td>191.000000</td>\n",
              "      <td>191.000000</td>\n",
              "      <td>164.000000</td>\n",
              "      <td>208.500000</td>\n",
              "    </tr>\n",
              "    <tr>\n",
              "      <th>75%</th>\n",
              "      <td>202.000000</td>\n",
              "      <td>199.250000</td>\n",
              "      <td>204.250000</td>\n",
              "      <td>200.000000</td>\n",
              "      <td>179.000000</td>\n",
              "      <td>222.250000</td>\n",
              "    </tr>\n",
              "    <tr>\n",
              "      <th>max</th>\n",
              "      <td>228.000000</td>\n",
              "      <td>223.000000</td>\n",
              "      <td>230.000000</td>\n",
              "      <td>300.000000</td>\n",
              "      <td>300.000000</td>\n",
              "      <td>247.000000</td>\n",
              "    </tr>\n",
              "  </tbody>\n",
              "</table>\n",
              "</div>"
            ],
            "text/plain": [
              "       MOD_LECTURA_CRITICA_PUNT  ...  GESTIÓN FINANCIERA\n",
              "count                 68.000000  ...           68.000000\n",
              "mean                 188.323529  ...          205.838235\n",
              "std                   21.457658  ...           26.878172\n",
              "min                  120.000000  ...          108.000000\n",
              "25%                  177.000000  ...          193.500000\n",
              "50%                  188.000000  ...          208.500000\n",
              "75%                  202.000000  ...          222.250000\n",
              "max                  228.000000  ...          247.000000\n",
              "\n",
              "[8 rows x 6 columns]"
            ]
          },
          "metadata": {},
          "execution_count": 114
        }
      ]
    },
    {
      "cell_type": "code",
      "metadata": {
        "colab": {
          "base_uri": "https://localhost:8080/",
          "height": 334
        },
        "id": "C8eoA1vv4jBU",
        "outputId": "192dda7e-7968-4c2a-da9d-40b445b79cd0"
      },
      "source": [
        "ujav.describe()"
      ],
      "execution_count": null,
      "outputs": [
        {
          "output_type": "execute_result",
          "data": {
            "text/html": [
              "<div>\n",
              "<style scoped>\n",
              "    .dataframe tbody tr th:only-of-type {\n",
              "        vertical-align: middle;\n",
              "    }\n",
              "\n",
              "    .dataframe tbody tr th {\n",
              "        vertical-align: top;\n",
              "    }\n",
              "\n",
              "    .dataframe thead th {\n",
              "        text-align: right;\n",
              "    }\n",
              "</style>\n",
              "<table border=\"1\" class=\"dataframe\">\n",
              "  <thead>\n",
              "    <tr style=\"text-align: right;\">\n",
              "      <th></th>\n",
              "      <th>MOD_LECTURA_CRITICA_PUNT</th>\n",
              "      <th>MOD_RAZONA_CUANTITAT_PUNT</th>\n",
              "      <th>MOD_COMPETEN_CIUDADA_PUNT</th>\n",
              "      <th>MOD_INGLES_PUNT</th>\n",
              "      <th>MOD_COMUNI_ESCRITA_PUNT</th>\n",
              "      <th>GESTIÓN FINANCIERA</th>\n",
              "    </tr>\n",
              "  </thead>\n",
              "  <tbody>\n",
              "    <tr>\n",
              "      <th>count</th>\n",
              "      <td>74.000000</td>\n",
              "      <td>74.000000</td>\n",
              "      <td>74.000000</td>\n",
              "      <td>74.000000</td>\n",
              "      <td>74.000000</td>\n",
              "      <td>73.000000</td>\n",
              "    </tr>\n",
              "    <tr>\n",
              "      <th>mean</th>\n",
              "      <td>167.040541</td>\n",
              "      <td>173.121622</td>\n",
              "      <td>159.702703</td>\n",
              "      <td>168.527027</td>\n",
              "      <td>157.729730</td>\n",
              "      <td>195.068493</td>\n",
              "    </tr>\n",
              "    <tr>\n",
              "      <th>std</th>\n",
              "      <td>29.322225</td>\n",
              "      <td>26.968248</td>\n",
              "      <td>30.623534</td>\n",
              "      <td>21.406197</td>\n",
              "      <td>26.829904</td>\n",
              "      <td>29.830227</td>\n",
              "    </tr>\n",
              "    <tr>\n",
              "      <th>min</th>\n",
              "      <td>103.000000</td>\n",
              "      <td>112.000000</td>\n",
              "      <td>74.000000</td>\n",
              "      <td>121.000000</td>\n",
              "      <td>96.000000</td>\n",
              "      <td>123.000000</td>\n",
              "    </tr>\n",
              "    <tr>\n",
              "      <th>25%</th>\n",
              "      <td>150.250000</td>\n",
              "      <td>156.000000</td>\n",
              "      <td>140.000000</td>\n",
              "      <td>154.250000</td>\n",
              "      <td>137.000000</td>\n",
              "      <td>178.000000</td>\n",
              "    </tr>\n",
              "    <tr>\n",
              "      <th>50%</th>\n",
              "      <td>170.000000</td>\n",
              "      <td>175.500000</td>\n",
              "      <td>165.500000</td>\n",
              "      <td>166.500000</td>\n",
              "      <td>158.500000</td>\n",
              "      <td>198.000000</td>\n",
              "    </tr>\n",
              "    <tr>\n",
              "      <th>75%</th>\n",
              "      <td>189.000000</td>\n",
              "      <td>192.000000</td>\n",
              "      <td>182.500000</td>\n",
              "      <td>183.750000</td>\n",
              "      <td>176.250000</td>\n",
              "      <td>215.000000</td>\n",
              "    </tr>\n",
              "    <tr>\n",
              "      <th>max</th>\n",
              "      <td>219.000000</td>\n",
              "      <td>231.000000</td>\n",
              "      <td>222.000000</td>\n",
              "      <td>225.000000</td>\n",
              "      <td>217.000000</td>\n",
              "      <td>300.000000</td>\n",
              "    </tr>\n",
              "  </tbody>\n",
              "</table>\n",
              "</div>"
            ],
            "text/plain": [
              "       MOD_LECTURA_CRITICA_PUNT  ...  GESTIÓN FINANCIERA\n",
              "count                 74.000000  ...           73.000000\n",
              "mean                 167.040541  ...          195.068493\n",
              "std                   29.322225  ...           29.830227\n",
              "min                  103.000000  ...          123.000000\n",
              "25%                  150.250000  ...          178.000000\n",
              "50%                  170.000000  ...          198.000000\n",
              "75%                  189.000000  ...          215.000000\n",
              "max                  219.000000  ...          300.000000\n",
              "\n",
              "[8 rows x 6 columns]"
            ]
          },
          "metadata": {},
          "execution_count": 115
        }
      ]
    },
    {
      "cell_type": "markdown",
      "metadata": {
        "id": "OUNqg7o344wg"
      },
      "source": [
        "**Histogramas**"
      ]
    },
    {
      "cell_type": "code",
      "metadata": {
        "id": "Nd9yPHne4k7v"
      },
      "source": [
        "import seaborn as sns"
      ],
      "execution_count": null,
      "outputs": []
    },
    {
      "cell_type": "code",
      "metadata": {
        "colab": {
          "base_uri": "https://localhost:8080/",
          "height": 386
        },
        "id": "PJxIppUO8V5B",
        "outputId": "94dc4160-3864-48ae-cae4-5e3d8f479951"
      },
      "source": [
        "sns.displot(unal, bins=30)"
      ],
      "execution_count": null,
      "outputs": [
        {
          "output_type": "execute_result",
          "data": {
            "text/plain": [
              "<seaborn.axisgrid.FacetGrid at 0x7fcd4967bb90>"
            ]
          },
          "metadata": {},
          "execution_count": 136
        },
        {
          "output_type": "display_data",
          "data": {
            "image/png": "[encoded data removed]",
            "text/plain": [
              "<Figure size 563.375x360 with 1 Axes>"
            ]
          },
          "metadata": {
            "needs_background": "light"
          }
        }
      ]
    },
    {
      "cell_type": "code",
      "metadata": {
        "colab": {
          "base_uri": "https://localhost:8080/",
          "height": 386
        },
        "id": "CZgEKfky48S_",
        "outputId": "292803fe-9b4d-4a98-a697-a95f7647658a"
      },
      "source": [
        "sns.displot(unal, kind=\"kde\")"
      ],
      "execution_count": null,
      "outputs": [
        {
          "output_type": "execute_result",
          "data": {
            "text/plain": [
              "<seaborn.axisgrid.FacetGrid at 0x7fcd49ff4210>"
            ]
          },
          "metadata": {},
          "execution_count": 135
        },
        {
          "output_type": "display_data",
          "data": {
            "image/png": "[encoded data removed]",
            "text/plain": [
              "<Figure size 563.375x360 with 1 Axes>"
            ]
          },
          "metadata": {
            "needs_background": "light"
          }
        }
      ]
    },
    {
      "cell_type": "code",
      "metadata": {
        "colab": {
          "base_uri": "https://localhost:8080/",
          "height": 386
        },
        "id": "Gj2_n5CW5CL0",
        "outputId": "4bdd9887-25c2-42cf-9f0a-158b358e590b"
      },
      "source": [
        "sns.displot(ujav, bins=30)"
      ],
      "execution_count": null,
      "outputs": [
        {
          "output_type": "execute_result",
          "data": {
            "text/plain": [
              "<seaborn.axisgrid.FacetGrid at 0x7fcd4999ea90>"
            ]
          },
          "metadata": {},
          "execution_count": 137
        },
        {
          "output_type": "display_data",
          "data": {
            "image/png": "[encoded data removed]",
            "text/plain": [
              "<Figure size 563.375x360 with 1 Axes>"
            ]
          },
          "metadata": {
            "needs_background": "light"
          }
        }
      ]
    },
    {
      "cell_type": "code",
      "metadata": {
        "colab": {
          "base_uri": "https://localhost:8080/",
          "height": 386
        },
        "id": "2gqvvaZs7HDl",
        "outputId": "b3aa0d82-0bbd-4cd5-d2f3-ec8c7251de01"
      },
      "source": [
        "sns.displot(ujav, kind=\"kde\")"
      ],
      "execution_count": null,
      "outputs": [
        {
          "output_type": "execute_result",
          "data": {
            "text/plain": [
              "<seaborn.axisgrid.FacetGrid at 0x7fcd44fc62d0>"
            ]
          },
          "metadata": {},
          "execution_count": 125
        },
        {
          "output_type": "display_data",
          "data": {
            "image/png": "[encoded data removed]",
            "text/plain": [
              "<Figure size 563.375x360 with 1 Axes>"
            ]
          },
          "metadata": {
            "needs_background": "light"
          }
        }
      ]
    },
    {
      "cell_type": "markdown",
      "metadata": {
        "id": "a1v-XbdL8pJD"
      },
      "source": [
        "**Conclusiones**\n",
        "\n",
        "\n",
        "* En general las puntuaciones de los estudiantes de contaduria de la Universidad Nacional sede Bogotá fueron superiores a los de los estudiantes de contaduria de la Universidad Javeriana sede Bogotá\n",
        "* Las puntuaciones de la prueba especifica de gestión financiera fueron superiores a las pruebas genericas para los estudiantes de ambas universidades\n",
        "* La puntuacion promedio de la prueba generica de ingles fue la unica en donde los estudiantes de contaduria de la Universidad Javeriana sede Bogotá fueron superiores a los estudiantes de contaduria de la Universidad Nacional sede Bogotá.\n",
        "* También sorprende que las cajas en los boxplot de los estudiantes de contaduria de la Universidad Nacional sede Bogotá son un poco mas pequeñas y los bigotes son mas cercanos comparados con los de los estudiantes de contaduria de la Universidad Javeriana sede Bogotá, del mismo modo la desviación estandard en general es menor para los estudiantes de la Univerdad Nacional\n",
        "\n"
      ]
    },
    {
      "cell_type": "code",
      "metadata": {
        "id": "mA4NKF1Z8ixp"
      },
      "source": [
        ""
      ],
      "execution_count": null,
      "outputs": []
    }
  ]
}