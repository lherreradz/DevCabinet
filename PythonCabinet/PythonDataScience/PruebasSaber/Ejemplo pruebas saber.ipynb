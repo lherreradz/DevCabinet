{
 "cells": [
  {
   "cell_type": "code",
   "execution_count": 2,
   "id": "361f1cbe-17c7-4fa4-94aa-c97c38092cb1",
   "metadata": {},
   "outputs": [],
   "source": [
    "import pandas as pd\n",
    "import numpy as np\n",
    "import matplotlib.pyplot as plt"
   ]
  },
  {
   "cell_type": "code",
   "execution_count": 8,
   "id": "24bf8ddf-e9be-44bd-a3ec-e9ee5469ff01",
   "metadata": {},
   "outputs": [],
   "source": [
    "df1 = pd.read_csv('Resultados_Saber_Pro_Competencias_Genericas_2019-2.csv')\n",
    "df2 = pd.read_csv('Resultados_Saber_Pro_Competencias_Especificas_2019-2.csv')"
   ]
  },
  {
   "cell_type": "code",
   "execution_count": 9,
   "id": "5d940579-dbb8-4c92-b60b-0a7f00769a92",
   "metadata": {},
   "outputs": [
    {
     "data": {
      "text/plain": [
       "(260756, 105)"
      ]
     },
     "execution_count": 9,
     "metadata": {},
     "output_type": "execute_result"
    }
   ],
   "source": [
    "df1.shape"
   ]
  },
  {
   "cell_type": "code",
   "execution_count": 10,
   "id": "c6f1926a-d5d6-434f-b5bd-3487e7e88490",
   "metadata": {},
   "outputs": [
    {
     "data": {
      "text/plain": [
       "(401815, 5)"
      ]
     },
     "execution_count": 10,
     "metadata": {},
     "output_type": "execute_result"
    }
   ],
   "source": [
    "df2.shape"
   ]
  },
  {
   "cell_type": "code",
   "execution_count": 19,
   "id": "e0a23000-2bf8-4965-be58-d481422e91f8",
   "metadata": {},
   "outputs": [],
   "source": [
    "serie1=df1[(df1.ESTU_PRGM_ACADEMICO=='CONTADURIA PUBLICA')&\\\n",
    "(df1['INST_NOMBRE_INSTITUCION'].str.contains('UNIVERSIDAD NACIONAL DE COLOMBIA-BOGOTÁ D.C.'))]\\\n",
    "[['ESTU_CONSECUTIVO','INST_NOMBRE_INSTITUCION']]"
   ]
  },
  {
   "cell_type": "code",
   "execution_count": 21,
   "id": "3e29be1d-4722-40b3-8470-b9afc8250b7e",
   "metadata": {},
   "outputs": [
    {
     "data": {
      "text/html": [
       "<div>\n",
       "<style scoped>\n",
       "    .dataframe tbody tr th:only-of-type {\n",
       "        vertical-align: middle;\n",
       "    }\n",
       "\n",
       "    .dataframe tbody tr th {\n",
       "        vertical-align: top;\n",
       "    }\n",
       "\n",
       "    .dataframe thead th {\n",
       "        text-align: right;\n",
       "    }\n",
       "</style>\n",
       "<table border=\"1\" class=\"dataframe\">\n",
       "  <thead>\n",
       "    <tr style=\"text-align: right;\">\n",
       "      <th></th>\n",
       "      <th>ESTU_CONSECUTIVO</th>\n",
       "      <th>INST_NOMBRE_INSTITUCION</th>\n",
       "    </tr>\n",
       "  </thead>\n",
       "  <tbody>\n",
       "    <tr>\n",
       "      <th>190418</th>\n",
       "      <td>EK201950125044</td>\n",
       "      <td>UNIVERSIDAD NACIONAL DE COLOMBIA-BOGOTÁ D.C.</td>\n",
       "    </tr>\n",
       "    <tr>\n",
       "      <th>190441</th>\n",
       "      <td>EK201950125160</td>\n",
       "      <td>UNIVERSIDAD NACIONAL DE COLOMBIA-BOGOTÁ D.C.</td>\n",
       "    </tr>\n",
       "    <tr>\n",
       "      <th>190442</th>\n",
       "      <td>EK201950125075</td>\n",
       "      <td>UNIVERSIDAD NACIONAL DE COLOMBIA-BOGOTÁ D.C.</td>\n",
       "    </tr>\n",
       "    <tr>\n",
       "      <th>190443</th>\n",
       "      <td>EK201950124971</td>\n",
       "      <td>UNIVERSIDAD NACIONAL DE COLOMBIA-BOGOTÁ D.C.</td>\n",
       "    </tr>\n",
       "    <tr>\n",
       "      <th>190444</th>\n",
       "      <td>EK201950125154</td>\n",
       "      <td>UNIVERSIDAD NACIONAL DE COLOMBIA-BOGOTÁ D.C.</td>\n",
       "    </tr>\n",
       "  </tbody>\n",
       "</table>\n",
       "</div>"
      ],
      "text/plain": [
       "       ESTU_CONSECUTIVO                       INST_NOMBRE_INSTITUCION\n",
       "190418   EK201950125044  UNIVERSIDAD NACIONAL DE COLOMBIA-BOGOTÁ D.C.\n",
       "190441   EK201950125160  UNIVERSIDAD NACIONAL DE COLOMBIA-BOGOTÁ D.C.\n",
       "190442   EK201950125075  UNIVERSIDAD NACIONAL DE COLOMBIA-BOGOTÁ D.C.\n",
       "190443   EK201950124971  UNIVERSIDAD NACIONAL DE COLOMBIA-BOGOTÁ D.C.\n",
       "190444   EK201950125154  UNIVERSIDAD NACIONAL DE COLOMBIA-BOGOTÁ D.C."
      ]
     },
     "execution_count": 21,
     "metadata": {},
     "output_type": "execute_result"
    }
   ],
   "source": [
    "serie1.head()"
   ]
  },
  {
   "cell_type": "code",
   "execution_count": 33,
   "id": "a8fa64d4-deaa-4f58-9035-c2dc13a2a366",
   "metadata": {},
   "outputs": [
    {
     "data": {
      "text/plain": [
       "(68, 2)"
      ]
     },
     "execution_count": 33,
     "metadata": {},
     "output_type": "execute_result"
    }
   ],
   "source": [
    "serie1.shape"
   ]
  },
  {
   "cell_type": "code",
   "execution_count": 25,
   "id": "72a30cc2-9da3-4c92-bfb9-bf2d1f233038",
   "metadata": {},
   "outputs": [
    {
     "data": {
      "text/html": [
       "<div>\n",
       "<style scoped>\n",
       "    .dataframe tbody tr th:only-of-type {\n",
       "        vertical-align: middle;\n",
       "    }\n",
       "\n",
       "    .dataframe tbody tr th {\n",
       "        vertical-align: top;\n",
       "    }\n",
       "\n",
       "    .dataframe thead th {\n",
       "        text-align: right;\n",
       "    }\n",
       "</style>\n",
       "<table border=\"1\" class=\"dataframe\">\n",
       "  <thead>\n",
       "    <tr style=\"text-align: right;\">\n",
       "      <th></th>\n",
       "      <th>ESTU_CONSECUTIVO</th>\n",
       "      <th>RESULT_CODIGOPRUEBA</th>\n",
       "      <th>RESULT_PUNTAJE</th>\n",
       "    </tr>\n",
       "  </thead>\n",
       "  <tbody>\n",
       "  </tbody>\n",
       "</table>\n",
       "</div>"
      ],
      "text/plain": [
       "Empty DataFrame\n",
       "Columns: [ESTU_CONSECUTIVO, RESULT_CODIGOPRUEBA, RESULT_PUNTAJE]\n",
       "Index: []"
      ]
     },
     "execution_count": 25,
     "metadata": {},
     "output_type": "execute_result"
    }
   ],
   "source": [
    "dataFrameFinal=pd.DataFrame(columns=['ESTU_CONSECUTIVO','RESULT_CODIGOPRUEBA','RESULT_PUNTAJE'])\n",
    "dataFrameFinal"
   ]
  },
  {
   "cell_type": "code",
   "execution_count": 37,
   "id": "d4f6fff3-98fe-425b-b1a4-aa1b077773f5",
   "metadata": {},
   "outputs": [
    {
     "data": {
      "text/plain": [
       "(10763,)"
      ]
     },
     "execution_count": 37,
     "metadata": {},
     "output_type": "execute_result"
    }
   ],
   "source": [
    "serie1_1=df1[(df1.ESTU_PRGM_ACADEMICO=='INGENIERIA INDUSTRIAL')]['ESTU_CONSECUTIVO']\n",
    "serie1_1.shape"
   ]
  },
  {
   "cell_type": "code",
   "execution_count": 36,
   "id": "716e582d-fd08-4f01-a74a-c97a083007ec",
   "metadata": {},
   "outputs": [
    {
     "data": {
      "text/plain": [
       "597     EK201950129061\n",
       "1378    EK201950129317\n",
       "1403    EK201950129076\n",
       "1445    EK201950129276\n",
       "1449    EK201950129631\n",
       "Name: ESTU_CONSECUTIVO, dtype: object"
      ]
     },
     "execution_count": 36,
     "metadata": {},
     "output_type": "execute_result"
    }
   ],
   "source": [
    "serie1_1.head()"
   ]
  },
  {
   "cell_type": "markdown",
   "id": "4a13fcc4-6da5-44b8-a708-e7f20a9a1ae8",
   "metadata": {},
   "source": [
    "Selecciona estudiantes que pertenecen a la serie y los adiciona al DataFrameFinal"
   ]
  },
  {
   "cell_type": "code",
   "execution_count": 35,
   "id": "ba7779de-6776-4dc3-a2de-7561ec0cb6ec",
   "metadata": {},
   "outputs": [
    {
     "name": "stdout",
     "output_type": "stream",
     "text": [
      "10456 960 9496\n"
     ]
    }
   ],
   "source": [
    "contador = 0\n",
    "contador2 = 0\n",
    "contador3 = 0\n",
    "contador0 = 0\n",
    "\n",
    "for element in serie1_1:\n",
    "    a = df2[df2.ESTU_CONSECUTIVO==element][['ESTU_CONSECUTIVO','RESULT_CODIGOPRUEBA','RESULT_PUNTAJE']]\n",
    "    if a.shape[0]>0:\n",
    "        dataFrameFinal=dataFrameFinal.append(a, ignore_index=True)\n",
    "        contador+=1\n",
    "        \n",
    "        if a.shape[0]==3:\n",
    "            contador3+=1\n",
    "        elif a.shape[0]==2:\n",
    "            contador2+=1\n",
    "        else:\n",
    "            contador0+=1\n",
    "print(contador,contador2,contador3)"
   ]
  },
  {
   "cell_type": "code",
   "execution_count": 38,
   "id": "b8ce44f2-2603-425a-997a-4f6b7e79cca5",
   "metadata": {},
   "outputs": [
    {
     "data": {
      "text/plain": [
       "(30408, 3)"
      ]
     },
     "execution_count": 38,
     "metadata": {},
     "output_type": "execute_result"
    }
   ],
   "source": [
    "dataFrameFinal.shape"
   ]
  },
  {
   "cell_type": "markdown",
   "id": "bc791232-3079-420c-b035-b963ec8d61f5",
   "metadata": {},
   "source": [
    "Selecciona estudiantes que pertenezcan a la serie, haciendo lo mismo que la sentencia for"
   ]
  },
  {
   "cell_type": "code",
   "execution_count": 40,
   "id": "7d796670-faea-4412-bf8c-fd347104e6e5",
   "metadata": {},
   "outputs": [
    {
     "data": {
      "text/plain": [
       "(30408, 5)"
      ]
     },
     "execution_count": 40,
     "metadata": {},
     "output_type": "execute_result"
    }
   ],
   "source": [
    "dataFrameFinal_2=df2.loc[df2['ESTU_CONSECUTIVO'].isin(serie1_1)]\n",
    "dataFrameFinal_2.shape"
   ]
  },
  {
   "cell_type": "code",
   "execution_count": 44,
   "id": "46a76980-4cb7-49f6-a555-782e25ee751b",
   "metadata": {},
   "outputs": [
    {
     "data": {
      "text/plain": [
       "(10456, 3)"
      ]
     },
     "execution_count": 44,
     "metadata": {},
     "output_type": "execute_result"
    }
   ],
   "source": [
    "df3=dataFrameFinal_2.pivot_table('RESULT_PUNTAJE',['ESTU_CONSECUTIVO'],'RESULT_NOMBREPRUEBA')\n",
    "# en el primer parametro van los datos que queremos ver en la tabla, en el segundo va el pivote o filas y por ultimo las columnas\n",
    "df3.shape"
   ]
  },
  {
   "cell_type": "code",
   "execution_count": 43,
   "id": "7cc5d3bb-8a4f-486a-92ea-3c73bb82eba6",
   "metadata": {},
   "outputs": [
    {
     "data": {
      "text/html": [
       "<div>\n",
       "<style scoped>\n",
       "    .dataframe tbody tr th:only-of-type {\n",
       "        vertical-align: middle;\n",
       "    }\n",
       "\n",
       "    .dataframe tbody tr th {\n",
       "        vertical-align: top;\n",
       "    }\n",
       "\n",
       "    .dataframe thead th {\n",
       "        text-align: right;\n",
       "    }\n",
       "</style>\n",
       "<table border=\"1\" class=\"dataframe\">\n",
       "  <thead>\n",
       "    <tr style=\"text-align: right;\">\n",
       "      <th>RESULT_NOMBREPRUEBA</th>\n",
       "      <th>DISEÑO DE SISTEMAS PRODUCTIVOS Y LOGÍSTICOS</th>\n",
       "      <th>FORMULACIÓN DE PROYECTOS DE INGENIERÍA</th>\n",
       "      <th>PENSAMIENTO CIENTÍFICO - MATEMÁTICAS Y ESTADÍSTICA</th>\n",
       "    </tr>\n",
       "    <tr>\n",
       "      <th>ESTU_CONSECUTIVO</th>\n",
       "      <th></th>\n",
       "      <th></th>\n",
       "      <th></th>\n",
       "    </tr>\n",
       "  </thead>\n",
       "  <tbody>\n",
       "    <tr>\n",
       "      <th>EK201950087152</th>\n",
       "      <td>144.0</td>\n",
       "      <td>131.0</td>\n",
       "      <td>107.0</td>\n",
       "    </tr>\n",
       "    <tr>\n",
       "      <th>EK201950087154</th>\n",
       "      <td>151.0</td>\n",
       "      <td>134.0</td>\n",
       "      <td>136.0</td>\n",
       "    </tr>\n",
       "    <tr>\n",
       "      <th>EK201950087155</th>\n",
       "      <td>73.0</td>\n",
       "      <td>130.0</td>\n",
       "      <td>119.0</td>\n",
       "    </tr>\n",
       "    <tr>\n",
       "      <th>EK201950087157</th>\n",
       "      <td>145.0</td>\n",
       "      <td>145.0</td>\n",
       "      <td>128.0</td>\n",
       "    </tr>\n",
       "    <tr>\n",
       "      <th>EK201950087161</th>\n",
       "      <td>124.0</td>\n",
       "      <td>116.0</td>\n",
       "      <td>116.0</td>\n",
       "    </tr>\n",
       "  </tbody>\n",
       "</table>\n",
       "</div>"
      ],
      "text/plain": [
       "RESULT_NOMBREPRUEBA  DISEÑO DE SISTEMAS PRODUCTIVOS Y LOGÍSTICOS  \\\n",
       "ESTU_CONSECUTIVO                                                   \n",
       "EK201950087152                                             144.0   \n",
       "EK201950087154                                             151.0   \n",
       "EK201950087155                                              73.0   \n",
       "EK201950087157                                             145.0   \n",
       "EK201950087161                                             124.0   \n",
       "\n",
       "RESULT_NOMBREPRUEBA  FORMULACIÓN DE PROYECTOS DE INGENIERÍA  \\\n",
       "ESTU_CONSECUTIVO                                              \n",
       "EK201950087152                                        131.0   \n",
       "EK201950087154                                        134.0   \n",
       "EK201950087155                                        130.0   \n",
       "EK201950087157                                        145.0   \n",
       "EK201950087161                                        116.0   \n",
       "\n",
       "RESULT_NOMBREPRUEBA  PENSAMIENTO CIENTÍFICO - MATEMÁTICAS Y ESTADÍSTICA  \n",
       "ESTU_CONSECUTIVO                                                         \n",
       "EK201950087152                                                   107.0   \n",
       "EK201950087154                                                   136.0   \n",
       "EK201950087155                                                   119.0   \n",
       "EK201950087157                                                   128.0   \n",
       "EK201950087161                                                   116.0   "
      ]
     },
     "execution_count": 43,
     "metadata": {},
     "output_type": "execute_result"
    }
   ],
   "source": [
    "df3.head()"
   ]
  },
  {
   "cell_type": "code",
   "execution_count": 45,
   "id": "4f4d7483-9ba6-4af9-83fc-49c44269d720",
   "metadata": {},
   "outputs": [
    {
     "data": {
      "text/plain": [
       "RESULT_NOMBREPRUEBA\n",
       "DISEÑO DE SISTEMAS PRODUCTIVOS Y LOGÍSTICOS           9496\n",
       "FORMULACIÓN DE PROYECTOS DE INGENIERÍA                9496\n",
       "PENSAMIENTO CIENTÍFICO - MATEMÁTICAS Y ESTADÍSTICA    9496\n",
       "dtype: int64"
      ]
     },
     "execution_count": 45,
     "metadata": {},
     "output_type": "execute_result"
    }
   ],
   "source": [
    "df3.dropna().count() # calcula cuantos tienen valor"
   ]
  },
  {
   "cell_type": "code",
   "execution_count": 49,
   "id": "4fa337b1-b392-49f2-8565-83ff2eb468f1",
   "metadata": {},
   "outputs": [
    {
     "data": {
      "text/plain": [
       "960"
      ]
     },
     "execution_count": 49,
     "metadata": {},
     "output_type": "execute_result"
    }
   ],
   "source": [
    "df3['DISEÑO DE SISTEMAS PRODUCTIVOS Y LOGÍSTICOS'].isnull().sum() # calcula cuantos campos de esa columna son null"
   ]
  },
  {
   "cell_type": "code",
   "execution_count": 51,
   "id": "0feb74f0-b159-4b4c-9df2-11353d662d21",
   "metadata": {},
   "outputs": [
    {
     "data": {
      "text/html": [
       "<div>\n",
       "<style scoped>\n",
       "    .dataframe tbody tr th:only-of-type {\n",
       "        vertical-align: middle;\n",
       "    }\n",
       "\n",
       "    .dataframe tbody tr th {\n",
       "        vertical-align: top;\n",
       "    }\n",
       "\n",
       "    .dataframe thead th {\n",
       "        text-align: right;\n",
       "    }\n",
       "</style>\n",
       "<table border=\"1\" class=\"dataframe\">\n",
       "  <thead>\n",
       "    <tr style=\"text-align: right;\">\n",
       "      <th>RESULT_NOMBREPRUEBA</th>\n",
       "      <th>DISEÑO DE SISTEMAS PRODUCTIVOS Y LOGÍSTICOS</th>\n",
       "      <th>FORMULACIÓN DE PROYECTOS DE INGENIERÍA</th>\n",
       "      <th>PENSAMIENTO CIENTÍFICO - MATEMÁTICAS Y ESTADÍSTICA</th>\n",
       "    </tr>\n",
       "    <tr>\n",
       "      <th>ESTU_CONSECUTIVO</th>\n",
       "      <th></th>\n",
       "      <th></th>\n",
       "      <th></th>\n",
       "    </tr>\n",
       "  </thead>\n",
       "  <tbody>\n",
       "    <tr>\n",
       "      <th>EK201950087152</th>\n",
       "      <td>144.0</td>\n",
       "      <td>131.0</td>\n",
       "      <td>107.0</td>\n",
       "    </tr>\n",
       "    <tr>\n",
       "      <th>EK201950087154</th>\n",
       "      <td>151.0</td>\n",
       "      <td>134.0</td>\n",
       "      <td>136.0</td>\n",
       "    </tr>\n",
       "    <tr>\n",
       "      <th>EK201950087155</th>\n",
       "      <td>73.0</td>\n",
       "      <td>130.0</td>\n",
       "      <td>119.0</td>\n",
       "    </tr>\n",
       "    <tr>\n",
       "      <th>EK201950087157</th>\n",
       "      <td>145.0</td>\n",
       "      <td>145.0</td>\n",
       "      <td>128.0</td>\n",
       "    </tr>\n",
       "    <tr>\n",
       "      <th>EK201950087161</th>\n",
       "      <td>124.0</td>\n",
       "      <td>116.0</td>\n",
       "      <td>116.0</td>\n",
       "    </tr>\n",
       "  </tbody>\n",
       "</table>\n",
       "</div>"
      ],
      "text/plain": [
       "RESULT_NOMBREPRUEBA  DISEÑO DE SISTEMAS PRODUCTIVOS Y LOGÍSTICOS  \\\n",
       "ESTU_CONSECUTIVO                                                   \n",
       "EK201950087152                                             144.0   \n",
       "EK201950087154                                             151.0   \n",
       "EK201950087155                                              73.0   \n",
       "EK201950087157                                             145.0   \n",
       "EK201950087161                                             124.0   \n",
       "\n",
       "RESULT_NOMBREPRUEBA  FORMULACIÓN DE PROYECTOS DE INGENIERÍA  \\\n",
       "ESTU_CONSECUTIVO                                              \n",
       "EK201950087152                                        131.0   \n",
       "EK201950087154                                        134.0   \n",
       "EK201950087155                                        130.0   \n",
       "EK201950087157                                        145.0   \n",
       "EK201950087161                                        116.0   \n",
       "\n",
       "RESULT_NOMBREPRUEBA  PENSAMIENTO CIENTÍFICO - MATEMÁTICAS Y ESTADÍSTICA  \n",
       "ESTU_CONSECUTIVO                                                         \n",
       "EK201950087152                                                   107.0   \n",
       "EK201950087154                                                   136.0   \n",
       "EK201950087155                                                   119.0   \n",
       "EK201950087157                                                   128.0   \n",
       "EK201950087161                                                   116.0   "
      ]
     },
     "execution_count": 51,
     "metadata": {},
     "output_type": "execute_result"
    }
   ],
   "source": [
    "df3.reset_index(drop=True, inplace=False)\n",
    "df3.head()"
   ]
  },
  {
   "cell_type": "code",
   "execution_count": 52,
   "id": "ddeef930-f05f-41ac-ad6d-60a77a959234",
   "metadata": {},
   "outputs": [
    {
     "data": {
      "text/html": [
       "<div>\n",
       "<style scoped>\n",
       "    .dataframe tbody tr th:only-of-type {\n",
       "        vertical-align: middle;\n",
       "    }\n",
       "\n",
       "    .dataframe tbody tr th {\n",
       "        vertical-align: top;\n",
       "    }\n",
       "\n",
       "    .dataframe thead th {\n",
       "        text-align: right;\n",
       "    }\n",
       "</style>\n",
       "<table border=\"1\" class=\"dataframe\">\n",
       "  <thead>\n",
       "    <tr style=\"text-align: right;\">\n",
       "      <th></th>\n",
       "      <th>ESTU_CONSECUTIVO</th>\n",
       "      <th>PUNT_GLOBAL</th>\n",
       "    </tr>\n",
       "  </thead>\n",
       "  <tbody>\n",
       "    <tr>\n",
       "      <th>146228</th>\n",
       "      <td>EK201950129947</td>\n",
       "      <td>186</td>\n",
       "    </tr>\n",
       "    <tr>\n",
       "      <th>154029</th>\n",
       "      <td>EK201940000647</td>\n",
       "      <td>170</td>\n",
       "    </tr>\n",
       "    <tr>\n",
       "      <th>154186</th>\n",
       "      <td>EK201940000679</td>\n",
       "      <td>198</td>\n",
       "    </tr>\n",
       "    <tr>\n",
       "      <th>154470</th>\n",
       "      <td>EK201940001269</td>\n",
       "      <td>199</td>\n",
       "    </tr>\n",
       "    <tr>\n",
       "      <th>154477</th>\n",
       "      <td>EK201940000627</td>\n",
       "      <td>156</td>\n",
       "    </tr>\n",
       "  </tbody>\n",
       "</table>\n",
       "</div>"
      ],
      "text/plain": [
       "       ESTU_CONSECUTIVO  PUNT_GLOBAL\n",
       "146228   EK201950129947          186\n",
       "154029   EK201940000647          170\n",
       "154186   EK201940000679          198\n",
       "154470   EK201940001269          199\n",
       "154477   EK201940000627          156"
      ]
     },
     "execution_count": 52,
     "metadata": {},
     "output_type": "execute_result"
    }
   ],
   "source": [
    "df4=df1[(df1.ESTU_PRGM_ACADEMICO=='INGENIERIA INDUSTRIAL')\\\n",
    "&(df1['INST_NOMBRE_INSTITUCION'].str.contains('UNIVERSIDAD NACIONAL DE COLOMBIA-BOGOTÁ D.C.'))]\\\n",
    "[['ESTU_CONSECUTIVO','PUNT_GLOBAL']]\n",
    "df4.head()"
   ]
  },
  {
   "cell_type": "code",
   "execution_count": 54,
   "id": "e8c314d8-c006-4d49-a859-a3ccb1f9731c",
   "metadata": {},
   "outputs": [
    {
     "data": {
      "text/plain": [
       "(10467, 5)"
      ]
     },
     "execution_count": 54,
     "metadata": {},
     "output_type": "execute_result"
    }
   ],
   "source": [
    "df_final = pd.merge(df3, df4, on='ESTU_CONSECUTIVO', how='outer')\n",
    "df_final.shape"
   ]
  },
  {
   "cell_type": "code",
   "execution_count": 56,
   "id": "dd7c3c23-b694-4e58-b3cc-18dd6aa4ebde",
   "metadata": {},
   "outputs": [
    {
     "data": {
      "text/html": [
       "<div>\n",
       "<style scoped>\n",
       "    .dataframe tbody tr th:only-of-type {\n",
       "        vertical-align: middle;\n",
       "    }\n",
       "\n",
       "    .dataframe tbody tr th {\n",
       "        vertical-align: top;\n",
       "    }\n",
       "\n",
       "    .dataframe thead th {\n",
       "        text-align: right;\n",
       "    }\n",
       "</style>\n",
       "<table border=\"1\" class=\"dataframe\">\n",
       "  <thead>\n",
       "    <tr style=\"text-align: right;\">\n",
       "      <th></th>\n",
       "      <th>ESTU_CONSECUTIVO</th>\n",
       "      <th>DISEÑO DE SISTEMAS PRODUCTIVOS Y LOGÍSTICOS</th>\n",
       "      <th>FORMULACIÓN DE PROYECTOS DE INGENIERÍA</th>\n",
       "      <th>PENSAMIENTO CIENTÍFICO - MATEMÁTICAS Y ESTADÍSTICA</th>\n",
       "      <th>PUNT_GLOBAL</th>\n",
       "    </tr>\n",
       "  </thead>\n",
       "  <tbody>\n",
       "    <tr>\n",
       "      <th>0</th>\n",
       "      <td>EK201950087152</td>\n",
       "      <td>144.0</td>\n",
       "      <td>131.0</td>\n",
       "      <td>107.0</td>\n",
       "      <td>NaN</td>\n",
       "    </tr>\n",
       "    <tr>\n",
       "      <th>1</th>\n",
       "      <td>EK201950087154</td>\n",
       "      <td>151.0</td>\n",
       "      <td>134.0</td>\n",
       "      <td>136.0</td>\n",
       "      <td>NaN</td>\n",
       "    </tr>\n",
       "    <tr>\n",
       "      <th>2</th>\n",
       "      <td>EK201950087155</td>\n",
       "      <td>73.0</td>\n",
       "      <td>130.0</td>\n",
       "      <td>119.0</td>\n",
       "      <td>NaN</td>\n",
       "    </tr>\n",
       "    <tr>\n",
       "      <th>3</th>\n",
       "      <td>EK201950087157</td>\n",
       "      <td>145.0</td>\n",
       "      <td>145.0</td>\n",
       "      <td>128.0</td>\n",
       "      <td>NaN</td>\n",
       "    </tr>\n",
       "    <tr>\n",
       "      <th>4</th>\n",
       "      <td>EK201950087161</td>\n",
       "      <td>124.0</td>\n",
       "      <td>116.0</td>\n",
       "      <td>116.0</td>\n",
       "      <td>NaN</td>\n",
       "    </tr>\n",
       "  </tbody>\n",
       "</table>\n",
       "</div>"
      ],
      "text/plain": [
       "  ESTU_CONSECUTIVO  DISEÑO DE SISTEMAS PRODUCTIVOS Y LOGÍSTICOS  \\\n",
       "0   EK201950087152                                        144.0   \n",
       "1   EK201950087154                                        151.0   \n",
       "2   EK201950087155                                         73.0   \n",
       "3   EK201950087157                                        145.0   \n",
       "4   EK201950087161                                        124.0   \n",
       "\n",
       "   FORMULACIÓN DE PROYECTOS DE INGENIERÍA  \\\n",
       "0                                   131.0   \n",
       "1                                   134.0   \n",
       "2                                   130.0   \n",
       "3                                   145.0   \n",
       "4                                   116.0   \n",
       "\n",
       "   PENSAMIENTO CIENTÍFICO - MATEMÁTICAS Y ESTADÍSTICA  PUNT_GLOBAL  \n",
       "0                                              107.0           NaN  \n",
       "1                                              136.0           NaN  \n",
       "2                                              119.0           NaN  \n",
       "3                                              128.0           NaN  \n",
       "4                                              116.0           NaN  "
      ]
     },
     "execution_count": 56,
     "metadata": {},
     "output_type": "execute_result"
    }
   ],
   "source": [
    "df_final.head()"
   ]
  },
  {
   "cell_type": "code",
   "execution_count": 57,
   "id": "bcfa6ade-91c6-4aa5-b47f-641665ce4e96",
   "metadata": {},
   "outputs": [
    {
     "name": "stdout",
     "output_type": "stream",
     "text": [
      "<class 'pandas.core.frame.DataFrame'>\n",
      "Int64Index: 10467 entries, 0 to 10466\n",
      "Data columns (total 5 columns):\n",
      " #   Column                                              Non-Null Count  Dtype  \n",
      "---  ------                                              --------------  -----  \n",
      " 0   ESTU_CONSECUTIVO                                    10467 non-null  object \n",
      " 1   DISEÑO DE SISTEMAS PRODUCTIVOS Y LOGÍSTICOS         9496 non-null   float64\n",
      " 2   FORMULACIÓN DE PROYECTOS DE INGENIERÍA              10456 non-null  float64\n",
      " 3   PENSAMIENTO CIENTÍFICO - MATEMÁTICAS Y ESTADÍSTICA  10456 non-null  float64\n",
      " 4   PUNT_GLOBAL                                         69 non-null     float64\n",
      "dtypes: float64(4), object(1)\n",
      "memory usage: 490.6+ KB\n"
     ]
    }
   ],
   "source": [
    "df_final.info()"
   ]
  }
 ],
 "metadata": {
  "kernelspec": {
   "display_name": "Python 3",
   "language": "python",
   "name": "python3"
  },
  "language_info": {
   "codemirror_mode": {
    "name": "ipython",
    "version": 3
   },
   "file_extension": ".py",
   "mimetype": "text/x-python",
   "name": "python",
   "nbconvert_exporter": "python",
   "pygments_lexer": "ipython3",
   "version": "3.8.8"
  }
 },
 "nbformat": 4,
 "nbformat_minor": 5
}
